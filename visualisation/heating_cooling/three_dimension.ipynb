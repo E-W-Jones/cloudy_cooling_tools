{
 "cells": [
  {
   "cell_type": "markdown",
   "id": "29e3f44e",
   "metadata": {},
   "source": [
    "# 3D Heating/Cooling Table\n",
    "Indexed by density, (redshift, metallicity, etc.), and temperature.\n",
    "Ignores tabulated Hydrogen/Helium. \n",
    "\n",
    "You can also read in tables which don't have redshift, instead providing e.g. metallicity, like cloudy_metals_2008_3D.h5."
   ]
  },
  {
   "cell_type": "code",
   "execution_count": null,
   "id": "40f29eff",
   "metadata": {},
   "outputs": [],
   "source": [
    "import numpy as np\n",
    "import matplotlib.pyplot as plt\n",
    "%matplotlib ipympl\n",
    "import h5py\n",
    "import ipywidgets as widgets"
   ]
  },
  {
   "cell_type": "code",
   "execution_count": null,
   "id": "b178033c",
   "metadata": {},
   "outputs": [],
   "source": [
    "filename = \"../../../grackle/grackle_data_files/input/CloudyData_UVB=HM2012_shielded.h5\"  # Grackle data for examples\n",
    "filename = \"../../../grackle/grackle_data_files/input/cloudy_metals_2008_3D.h5\"\n",
    "\n",
    "filein = h5py.File(filename, \"r\")\n",
    "\n",
    "# Could, at some point, add drop down selectors for primordial/metal heating/cooling\n",
    "_, parameter1_arr, parameter1_name, parameter2_arr, parameter2_name, _, temperature_arr = filein[\"CoolingRates/Metals/Cooling\"].attrs.values()\n",
    "temperature_arr = np.log10(temperature_arr)\n",
    "\n",
    "parameter2_slider = widgets.SelectionSlider(options=parameter2_arr, value=0, description=parameter2_name.decode())\n",
    "\n",
    "# Create the plot\n",
    "extent = (parameter1_arr[0], parameter1_arr[-1], temperature_arr[0], temperature_arr[-1])\n",
    "im = plt.imshow(\n",
    "    filein[\"CoolingRates/Metals/Cooling\"][:, parameter2_slider.index, :].T,\n",
    "    norm=\"log\",\n",
    "    vmin=1e-30,\n",
    "    vmax=1e-21,\n",
    "    origin=\"lower\",\n",
    "    extent=extent,\n",
    "    interpolation='None'\n",
    "    )\n",
    "\n",
    "plt.ylabel(\"log Temperature\")\n",
    "plt.xlabel(f\"log {parameter1_name.decode()}\")\n",
    "plt.colorbar(im)\n",
    "plt.title(f\"Cooling (function/rate?)\")\n",
    "\n",
    "# Add interactivity\n",
    "# We could use widgets.interact, but this way means we don't need to search for the value, and can instead take the index directly\n",
    "# It _looks_ worse, but in theory should be slightly more perfomative\n",
    "\n",
    "def set_data(change):\n",
    "    im.set_data(\n",
    "       filein[\"CoolingRates/Metals/Cooling\"][:, parameter2_slider.index, :].T\n",
    "    )\n",
    "\n",
    "parameter2_slider.observe(set_data)\n",
    "\n",
    "display(parameter2_slider)\n",
    "\n",
    "plt.show()"
   ]
  },
  {
   "cell_type": "code",
   "execution_count": null,
   "id": "c1aee41d",
   "metadata": {},
   "outputs": [],
   "source": [
    "filein.close()\n",
    "plt.close()"
   ]
  },
  {
   "cell_type": "code",
   "execution_count": null,
   "id": "7178507c",
   "metadata": {},
   "outputs": [],
   "source": []
  }
 ],
 "metadata": {
  "kernelspec": {
   "display_name": "base",
   "language": "python",
   "name": "python3"
  },
  "language_info": {
   "codemirror_mode": {
    "name": "ipython",
    "version": 3
   },
   "file_extension": ".py",
   "mimetype": "text/x-python",
   "name": "python",
   "nbconvert_exporter": "python",
   "pygments_lexer": "ipython3",
   "version": "3.12.2"
  }
 },
 "nbformat": 4,
 "nbformat_minor": 5
}
