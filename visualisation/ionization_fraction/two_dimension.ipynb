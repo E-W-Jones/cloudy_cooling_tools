{
 "cells": [
  {
   "cell_type": "markdown",
   "id": "9de1f4e2",
   "metadata": {},
   "source": [
    "# 2D Ionization Fraction Table\n",
    "For an ionization table indexed by density and temperature. _Not tested_"
   ]
  },
  {
   "cell_type": "code",
   "execution_count": 1,
   "id": "859581a8",
   "metadata": {},
   "outputs": [],
   "source": [
    "import numpy as np\n",
    "import matplotlib.pyplot as plt\n",
    "# You might need a different backend, but make sure it's interactive\n",
    "%matplotlib ipympl\n",
    "import h5py\n",
    "import ipywidgets as widgets"
   ]
  },
  {
   "cell_type": "code",
   "execution_count": 2,
   "id": "df71fa12",
   "metadata": {},
   "outputs": [],
   "source": [
    "# Takes the ionization state as 0, 1, 2 and converts to I, II, III\n",
    "# H, 0 -> HI, etc.\n",
    "dec2roman = \"I II III IV V VI VII VIII IX X XI XII XIII XIV XV XVI XVII XVIII XIX XX XXI XXII XXIII XXIV XXV XXVI XXVII XXVIII XXIX XXX XXXI\".split()"
   ]
  },
  {
   "cell_type": "code",
   "execution_count": 3,
   "id": "e2c5d88d",
   "metadata": {},
   "outputs": [
    {
     "ename": "TypeError",
     "evalue": "expected str, bytes or os.PathLike object, not ellipsis",
     "output_type": "error",
     "traceback": [
      "\u001b[0;31m---------------------------------------------------------------------------\u001b[0m",
      "\u001b[0;31mTypeError\u001b[0m                                 Traceback (most recent call last)",
      "Cell \u001b[0;32mIn[3], line 3\u001b[0m\n\u001b[1;32m      1\u001b[0m filename \u001b[38;5;241m=\u001b[39m \u001b[38;5;241m.\u001b[39m\u001b[38;5;241m.\u001b[39m\u001b[38;5;241m.\u001b[39m\n\u001b[0;32m----> 3\u001b[0m filein \u001b[38;5;241m=\u001b[39m \u001b[43mh5py\u001b[49m\u001b[38;5;241;43m.\u001b[39;49m\u001b[43mFile\u001b[49m\u001b[43m(\u001b[49m\u001b[43mfilename\u001b[49m\u001b[43m,\u001b[49m\u001b[43m \u001b[49m\u001b[38;5;124;43m\"\u001b[39;49m\u001b[38;5;124;43mr\u001b[39;49m\u001b[38;5;124;43m\"\u001b[39;49m\u001b[43m)\u001b[49m\n\u001b[1;32m      5\u001b[0m element \u001b[38;5;241m=\u001b[39m \u001b[38;5;124m'\u001b[39m\u001b[38;5;124mH\u001b[39m\u001b[38;5;124m'\u001b[39m  \u001b[38;5;66;03m# an initial value\u001b[39;00m\n\u001b[1;32m      6\u001b[0m density_arr, temperature_arr \u001b[38;5;241m=\u001b[39m filein[element]\u001b[38;5;241m.\u001b[39mattrs\u001b[38;5;241m.\u001b[39mvalues()\n",
      "File \u001b[0;32m~/miniconda3/lib/python3.12/site-packages/h5py/_hl/files.py:539\u001b[0m, in \u001b[0;36mFile.__init__\u001b[0;34m(self, name, mode, driver, libver, userblock_size, swmr, rdcc_nslots, rdcc_nbytes, rdcc_w0, track_order, fs_strategy, fs_persist, fs_threshold, fs_page_size, page_buf_size, min_meta_keep, min_raw_keep, locking, alignment_threshold, alignment_interval, meta_block_size, **kwds)\u001b[0m\n\u001b[1;32m    537\u001b[0m     name \u001b[38;5;241m=\u001b[39m \u001b[38;5;28mrepr\u001b[39m(name)\u001b[38;5;241m.\u001b[39mencode(\u001b[38;5;124m'\u001b[39m\u001b[38;5;124mASCII\u001b[39m\u001b[38;5;124m'\u001b[39m, \u001b[38;5;124m'\u001b[39m\u001b[38;5;124mreplace\u001b[39m\u001b[38;5;124m'\u001b[39m)\n\u001b[1;32m    538\u001b[0m \u001b[38;5;28;01melse\u001b[39;00m:\n\u001b[0;32m--> 539\u001b[0m     name \u001b[38;5;241m=\u001b[39m \u001b[43mfilename_encode\u001b[49m\u001b[43m(\u001b[49m\u001b[43mname\u001b[49m\u001b[43m)\u001b[49m\n\u001b[1;32m    541\u001b[0m \u001b[38;5;28;01mif\u001b[39;00m track_order \u001b[38;5;129;01mis\u001b[39;00m \u001b[38;5;28;01mNone\u001b[39;00m:\n\u001b[1;32m    542\u001b[0m     track_order \u001b[38;5;241m=\u001b[39m h5\u001b[38;5;241m.\u001b[39mget_config()\u001b[38;5;241m.\u001b[39mtrack_order\n",
      "File \u001b[0;32m~/miniconda3/lib/python3.12/site-packages/h5py/_hl/compat.py:25\u001b[0m, in \u001b[0;36mfilename_encode\u001b[0;34m(filename)\u001b[0m\n\u001b[1;32m     17\u001b[0m \u001b[38;5;28;01mdef\u001b[39;00m \u001b[38;5;21mfilename_encode\u001b[39m(filename):\n\u001b[1;32m     18\u001b[0m \u001b[38;5;250m    \u001b[39m\u001b[38;5;124;03m\"\"\"\u001b[39;00m\n\u001b[1;32m     19\u001b[0m \u001b[38;5;124;03m    Encode filename for use in the HDF5 library.\u001b[39;00m\n\u001b[1;32m     20\u001b[0m \n\u001b[0;32m   (...)\u001b[0m\n\u001b[1;32m     23\u001b[0m \u001b[38;5;124;03m    filenames in h5py for more information.\u001b[39;00m\n\u001b[1;32m     24\u001b[0m \u001b[38;5;124;03m    \"\"\"\u001b[39;00m\n\u001b[0;32m---> 25\u001b[0m     filename \u001b[38;5;241m=\u001b[39m \u001b[43mfspath\u001b[49m\u001b[43m(\u001b[49m\u001b[43mfilename\u001b[49m\u001b[43m)\u001b[49m\n\u001b[1;32m     26\u001b[0m     \u001b[38;5;28;01mif\u001b[39;00m sys\u001b[38;5;241m.\u001b[39mplatform \u001b[38;5;241m==\u001b[39m \u001b[38;5;124m\"\u001b[39m\u001b[38;5;124mwin32\u001b[39m\u001b[38;5;124m\"\u001b[39m:\n\u001b[1;32m     27\u001b[0m         \u001b[38;5;28;01mif\u001b[39;00m \u001b[38;5;28misinstance\u001b[39m(filename, \u001b[38;5;28mstr\u001b[39m):\n",
      "\u001b[0;31mTypeError\u001b[0m: expected str, bytes or os.PathLike object, not ellipsis"
     ]
    }
   ],
   "source": [
    "filename = ...\n",
    "\n",
    "filein = h5py.File(filename, \"r\")\n",
    "\n",
    "element = 'H'  # an initial value\n",
    "density_arr, temperature_arr = filein[element].attrs.values()\n",
    "\n",
    "# Create sliders/dropdowns and link the element selector to change the ionization state slider\n",
    "element_selector = widgets.Dropdown(options=filein.keys(), value='H', description=\"Element\")\n",
    "ionization_state_slider = widgets.IntSlider(0, 0, 1, description=\"Ionization State\")\n",
    "\n",
    "# Create the plot\n",
    "extent = (density_arr[0], density_arr[-1], temperature_arr[0], temperature_arr[-1])\n",
    "im = plt.imshow(\n",
    "    filein[element][ionization_state_slider.value, :, :].T,\n",
    "    vmin=-9,\n",
    "    vmax=0,\n",
    "    origin=\"lower\",\n",
    "    extent=extent,\n",
    "    interpolation='None'\n",
    "    )\n",
    "\n",
    "plt.ylabel(\"log Temperature\")\n",
    "plt.xlabel(\"Log density\")\n",
    "plt.colorbar(im)\n",
    "title = plt.title(f\"Ionization fraction of {element_selector.value} {dec2roman[ionization_state_slider.value]}\")\n",
    "\n",
    "# Add interactivity\n",
    "# We could use widgets.interact, but this way means we don't need to search for the value, and can instead take the index directly\n",
    "# It _looks_ worse, but in theory should be slightly more perfomative\n",
    "\n",
    "def set_data(change):\n",
    "    im.set_data(\n",
    "        filein[element_selector.value][ionization_state_slider.value, :, :].T\n",
    "    )\n",
    "\n",
    "def set_title(change):\n",
    "    title.set_text(f\"Ionization fraction of {element_selector.value} {dec2roman[ionization_state_slider.value]}\")\n",
    "\n",
    "def on_element_change(change):\n",
    "    ionization_state_slider.max = filein[element_selector.value].shape[0] - 1\n",
    "\n",
    "element_selector.observe(on_element_change)\n",
    "element_selector.observe(set_title)\n",
    "element_selector.observe(set_data)\n",
    "\n",
    "ionization_state_slider.observe(set_title)\n",
    "ionization_state_slider.observe(set_data)\n",
    "\n"
   ]
  },
  {
   "cell_type": "code",
   "execution_count": null,
   "id": "26a37cb2",
   "metadata": {},
   "outputs": [],
   "source": [
    "display(element_selector,\n",
    "        ionization_state_slider)\n",
    "\n",
    "plt.show()"
   ]
  },
  {
   "cell_type": "code",
   "execution_count": null,
   "id": "339967d5",
   "metadata": {},
   "outputs": [],
   "source": [
    "plt.close()\n",
    "filein.close()"
   ]
  }
 ],
 "metadata": {
  "kernelspec": {
   "display_name": "base",
   "language": "python",
   "name": "python3"
  },
  "language_info": {
   "codemirror_mode": {
    "name": "ipython",
    "version": 3
   },
   "file_extension": ".py",
   "mimetype": "text/x-python",
   "name": "python",
   "nbconvert_exporter": "python",
   "pygments_lexer": "ipython3",
   "version": "3.12.2"
  }
 },
 "nbformat": 4,
 "nbformat_minor": 5
}
