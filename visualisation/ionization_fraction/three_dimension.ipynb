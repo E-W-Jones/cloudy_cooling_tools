{
 "cells": [
  {
   "cell_type": "markdown",
   "id": "4a5948ef",
   "metadata": {},
   "source": [
    "# 3D Ionization Fraction Table\n",
    "For an ionization table indexed by density, redshift and temperature."
   ]
  },
  {
   "cell_type": "code",
   "execution_count": null,
   "id": "bda35a7a",
   "metadata": {},
   "outputs": [],
   "source": [
    "import numpy as np\n",
    "import matplotlib.pyplot as plt\n",
    "# You might need a different backend, but make sure it's interactive\n",
    "%matplotlib ipympl\n",
    "import h5py\n",
    "import ipywidgets as widgets"
   ]
  },
  {
   "cell_type": "code",
   "execution_count": null,
   "id": "90bdcf0f",
   "metadata": {},
   "outputs": [],
   "source": [
    "# Takes the ionization state as 0, 1, 2 and converts to I, II, III\n",
    "# H, 0 -> HI, etc.\n",
    "dec2roman = \"I II III IV V VI VII VIII IX X XI XII XIII XIV XV XVI XVII XVIII XIX XX XXI XXII XXIII XXIV XXV XXVI XXVII XXVIII XXIX XXX XXXI\".split()"
   ]
  },
  {
   "cell_type": "code",
   "execution_count": null,
   "id": "ed0992f8",
   "metadata": {},
   "outputs": [],
   "source": [
    "filename = \"./hm2012_lr.h5\"  # Example using Trident data\n",
    "\n",
    "filein = h5py.File(filename, \"r\")\n",
    "\n",
    "element = 'H'  # an initial value\n",
    "density_arr, redshift_arr, temperature_arr = filein[element].attrs.values()\n",
    "\n",
    "# Create sliders/dropdowns and link the element selector to change the ionization state slider\n",
    "element_selector = widgets.Dropdown(options=filein.keys(), value='H', description=\"Element\")\n",
    "redshift_slider = widgets.SelectionSlider(options=redshift_arr, value=0, description=\"Redshift\")\n",
    "ionization_state_slider = widgets.IntSlider(0, 0, 1, description=\"Ionization State\")\n",
    "\n",
    "# Create the plot\n",
    "extent = (density_arr[0], density_arr[-1], temperature_arr[0], temperature_arr[-1])\n",
    "im = plt.imshow(\n",
    "    filein[element][ionization_state_slider.value, :, redshift_slider.index, :].T,\n",
    "    vmin=-9,\n",
    "    vmax=0,\n",
    "    origin=\"lower\",\n",
    "    extent=extent,\n",
    "    interpolation='None'\n",
    "    )\n",
    "\n",
    "plt.ylabel(\"log Temperature\")\n",
    "plt.xlabel(\"log density\")\n",
    "plt.colorbar(im)\n",
    "title = plt.title(f\"Ionization fraction of {element_selector.value} {dec2roman[ionization_state_slider.value]}\")\n",
    "\n",
    "# Add interactivity\n",
    "# We could use widgets.interact, but this way means we don't need to search for the value, and can instead take the index directly\n",
    "# It _looks_ worse, but in theory should be slightly more perfomative\n",
    "\n",
    "def set_data(change):\n",
    "    im.set_data(\n",
    "        filein[element_selector.value][ionization_state_slider.value, :, redshift_slider.index, :].T\n",
    "    )\n",
    "\n",
    "def set_title(change):\n",
    "    title.set_text(f\"Ionization fraction of {element_selector.value} {dec2roman[ionization_state_slider.value]}\")\n",
    "\n",
    "def on_element_change(change):\n",
    "    ionization_state_slider.max = filein[element_selector.value].shape[0] - 1\n",
    "\n",
    "element_selector.observe(on_element_change)\n",
    "element_selector.observe(set_title)\n",
    "element_selector.observe(set_data)\n",
    "\n",
    "ionization_state_slider.observe(set_title)\n",
    "ionization_state_slider.observe(set_data)\n",
    "\n",
    "redshift_slider.observe(set_data)\n",
    "\n",
    "display(element_selector,\n",
    "        ionization_state_slider,\n",
    "        redshift_slider)\n",
    "\n",
    "plt.show()"
   ]
  },
  {
   "cell_type": "code",
   "execution_count": null,
   "id": "8f3ffd6f",
   "metadata": {},
   "outputs": [],
   "source": [
    "plt.close()\n",
    "filein.close()"
   ]
  }
 ],
 "metadata": {
  "kernelspec": {
   "display_name": "base",
   "language": "python",
   "name": "python3"
  },
  "language_info": {
   "codemirror_mode": {
    "name": "ipython",
    "version": 3
   },
   "file_extension": ".py",
   "mimetype": "text/x-python",
   "name": "python",
   "nbconvert_exporter": "python",
   "pygments_lexer": "ipython3",
   "version": "3.12.2"
  }
 },
 "nbformat": 4,
 "nbformat_minor": 5
}
